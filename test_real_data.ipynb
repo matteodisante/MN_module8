{
 "cells": [
  {
   "cell_type": "code",
   "execution_count": 1,
   "id": "18a5e7f5",
   "metadata": {},
   "outputs": [],
   "source": [
    "import os\n",
    "import numpy as np\n",
    "import pandas as pd\n",
    "import matplotlib.pyplot as plt\n",
    "import time\n",
    "from core.mutual_information_1 import *\n",
    "from scipy.stats import ks_2samp"
   ]
  },
  {
   "cell_type": "code",
   "execution_count": 12,
   "id": "825c2e7a",
   "metadata": {},
   "outputs": [],
   "source": [
    "def ensure_directory_exists(directory_path):\n",
    "    \"\"\"\n",
    "    Checks if a directory exists, and creates it if it does not.\n",
    "\n",
    "    :param directory_path: Path of the directory to check/create.\n",
    "    \"\"\"\n",
    "    if not os.path.exists(directory_path):\n",
    "        os.makedirs(directory_path)\n",
    "        print(f\"Directory created: {directory_path}\")\n",
    "    else:\n",
    "        print(f\"Directory {directory_path} already existed. You might have overwritten the data!\")\n",
    "        \n",
    "\n",
    "def two_sample_ks(mi_A, mi_C, alpha):\n",
    "    # Two-sample Kolmogorov-Smirnov test\n",
    "    test_statistics, p_value = ks_2samp(mi_A, mi_C)\n",
    "\n",
    "    # Results\n",
    "    print(\"Statistic KS:\", test_statistics)\n",
    "    print(\"p-value:\", p_value)\n",
    "\n",
    "    alpha = 0.05\n",
    "    if p_value < alpha:\n",
    "        print(f\"The two samples have significantly different distributions (at the {int(alpha*100)} % significance level).\")\n",
    "    else:\n",
    "        print(\"There is not enough evidence to assert that the two samples come from different distributions.\")"
   ]
  },
  {
   "cell_type": "markdown",
   "id": "3dbd8e99",
   "metadata": {},
   "source": [
    "# import RAW DATA"
   ]
  },
  {
   "cell_type": "code",
   "execution_count": 8,
   "id": "4c27bc34",
   "metadata": {},
   "outputs": [
    {
     "name": "stdout",
     "output_type": "stream",
     "text": [
      "File 'A14F3-TE10034' elaborato con successo.\n",
      "File 'A14F4-TE10034' elaborato con successo.\n",
      "File 'A15F3-TE10034' elaborato con successo.\n",
      "File 'A15F4-TE10034' elaborato con successo.\n",
      "File 'A16F3-TE10034' elaborato con successo.\n",
      "File 'C11F3-VE' elaborato con successo.\n",
      "File 'C11F4-VE' elaborato con successo.\n",
      "File 'C12F3-VE' elaborato con successo.\n",
      "File 'C13F3-VE' elaborato con successo.\n",
      "File 'C13F4-VE' elaborato con successo.\n",
      "Errore durante l'elaborazione di 'README.txt': Error tokenizing data. C error: Expected 9 fields in line 2, saw 10\n",
      "\n"
     ]
    }
   ],
   "source": [
    "# Percorso della cartella \"real_dataset\"\n",
    "directory_path = \"data/real_data/raw_data\"\n",
    "\n",
    "# Dizionari per memorizzare i dati\n",
    "data_dict_A = {}\n",
    "data_dict_C = {}\n",
    "\n",
    "# Liste per creare un DataFrame con le statistiche\n",
    "data_rows = []\n",
    "\n",
    "# Scansiona i file nella cartella\n",
    "for filename in os.listdir(directory_path):\n",
    "    file_path = os.path.join(directory_path, filename)\n",
    "    if os.path.isfile(file_path) and filename.lower() != \"readme\":\n",
    "        try:\n",
    "            # Legge i dati e converte in array NumPy\n",
    "            data = pd.read_csv(file_path, delim_whitespace=True, header=None).values\n",
    "\n",
    "            # Determina il gruppo (A o C) e salva nei dizionari appropriati\n",
    "            group = 'A' if filename.startswith(\"A\") else 'C'\n",
    "            if group == 'A':\n",
    "                data_dict_A[filename] = data\n",
    "            else:\n",
    "                data_dict_C[filename] = data\n",
    "\n",
    "            print(f\"File '{filename}' elaborato con successo.\")\n",
    "\n",
    "        except Exception as e:\n",
    "            print(f\"Errore durante l'elaborazione di '{filename}': {e}\")"
   ]
  },
  {
   "cell_type": "markdown",
   "id": "482c8280",
   "metadata": {},
   "source": [
    "# data trasformation: A/C"
   ]
  },
  {
   "cell_type": "code",
   "execution_count": null,
   "id": "a71f5671",
   "metadata": {},
   "outputs": [],
   "source": [
    "# A data\n",
    "n = 5000 # windows lenght\n",
    "h = n // 2  # overlapping parameter\n",
    "k = 1 # k-nearest neighbor\n",
    "\n",
    "\n",
    "mi_list = []\n",
    "for name in data_dict_A.keys():\n",
    "    # data\n",
    "    data_array = data_dict_A[name]\n",
    "    \n",
    "    # number of windows\n",
    "    i = 0\n",
    "    while (i*h + n) <= len(data_array):\n",
    "        i+=1\n",
    "    i_max = i # actually we are interested in i-1, but for the subquent for cycle is reasonable to save i_max=i\n",
    "    print(f'number of windows for {name} = {i_max}')\n",
    "    \n",
    "    # mi computation\n",
    "    start = time.time()\n",
    "    for j in range(i_max): # j=0,...,i_max-1\n",
    "        mi_list.append(mutual_information_1(data_array[j*h: (j*h + n)], k=k)) # compute mi for each window\n",
    "    end = time.time() - start\n",
    "    print(f'run time for {name}= {end/60} min')\n",
    "    \n",
    "mi_A = np.array(mi_list)\n",
    "directory_path = f'data/real_data/n_{n}/h_{h}/k_{k}/A'\n",
    "ensure_directory_exists(directory_path)\n",
    "file_name = f\"mi_A.txt\"\n",
    "file_path = os.path.join(directory_path, file_name)\n",
    "np.savetxt(file_path, mi_A)"
   ]
  },
  {
   "cell_type": "code",
   "execution_count": null,
   "id": "87ce4be9",
   "metadata": {},
   "outputs": [],
   "source": [
    "# C data\n",
    "n = 5000 # windows lenght\n",
    "h = n // 2  # overlapping parameter\n",
    "k = 1  # k-nearest neighbor\n",
    "\n",
    "mi_list = []\n",
    "for name in data_dict_C.keys():\n",
    "    # data\n",
    "    data_array = data_dict_C[name]\n",
    "    \n",
    "    # number of windows\n",
    "    i = 0\n",
    "    while (i*h + n) <= len(data_array):\n",
    "        i+=1\n",
    "    i_max = i  # actually we are interested in i-1, but for the subquent for cycle is reasonable to save i_max=i\n",
    "    print(f'number of windows for {name} = {i_max}')\n",
    "    \n",
    "    # mi computation\n",
    "    start = time.time()\n",
    "    for j in range(i_max): # j=0,...,i_max-1\n",
    "        mi_list.append(mutual_information_1(data_array[j*h: (j*h + n)], k=k)) # compute mi for each window\n",
    "    end = time.time() - start\n",
    "    print(f'run time for {name}= {end/60} min')\n",
    "    \n",
    "mi_C = np.array(mi_list)\n",
    "directory_path = f'data/real_data/n_{n}/h_{h}/k_{k}/C'\n",
    "ensure_directory_exists(directory_path)\n",
    "file_name = f\"mi_C.txt\"\n",
    "file_path = os.path.join(directory_path, file_name)\n",
    "np.savetxt(file_path, mi_C)"
   ]
  },
  {
   "cell_type": "markdown",
   "id": "e0370774",
   "metadata": {},
   "source": [
    "### data analysis"
   ]
  },
  {
   "cell_type": "code",
   "execution_count": 21,
   "id": "e6ad7135",
   "metadata": {},
   "outputs": [],
   "source": [
    "# import C mi data\n",
    "\n",
    "file_path_C = 'data/real_data/n_5000/h_2500/k_1/C/mi_C.txt'\n",
    "\n",
    "# file loading as numpy array\n",
    "try:\n",
    "    \n",
    "    mi_C = np.loadtxt(file_path_C)\n",
    "    \n",
    "except Exception as e:\n",
    "    print(f\"Error while loading file: {e}\")\n",
    "    \n",
    "    \n",
    "# import A mi data\n",
    "\n",
    "file_path_A = 'data/real_data/n_5000/h_2500/k_1/A/mi_A.txt'\n",
    "\n",
    "# file loading as numpy array\n",
    "try:\n",
    "\n",
    "    mi_A = np.loadtxt(file_path_A)\n",
    "    \n",
    "except Exception as e:\n",
    "    print(f\"Error while loading file: {e}\")"
   ]
  },
  {
   "cell_type": "code",
   "execution_count": 50,
   "id": "43bcceaa",
   "metadata": {},
   "outputs": [
    {
     "data": {
      "image/png": "[encoded data removed]",
      "text/plain": [
       "<Figure size 640x480 with 1 Axes>"
      ]
     },
     "metadata": {},
     "output_type": "display_data"
    },
    {
     "name": "stdout",
     "output_type": "stream",
     "text": [
      "Statistic KS: 0.23994962704640124\n",
      "p-value: 8.809337762017645e-22\n",
      "The two samples have significantly different distributions (at the 5 % significance level).\n"
     ]
    }
   ],
   "source": [
    "plt.hist(mi_A, density=True, bins=int(np.sqrt(len(mi_A))), label='A')\n",
    "plt.hist(mi_C, density=True, bins=int(np.sqrt(len(mi_C))), label='C', alpha=0.6)\n",
    "\n",
    "plt.legend()\n",
    "plt.ylabel('density')\n",
    "plt.xlabel('MI')\n",
    "plt.show()\n",
    "\n",
    "# Two-sample Kolmogorov-Smirnov test\n",
    "alpha = 0.05\n",
    "two_sample_ks(mi_A, mi_C, alpha)"
   ]
  },
  {
   "cell_type": "markdown",
   "id": "093cd779",
   "metadata": {},
   "source": [
    "# data trasformation: single file"
   ]
  },
  {
   "cell_type": "code",
   "execution_count": 20,
   "id": "854d9797",
   "metadata": {},
   "outputs": [
    {
     "name": "stdout",
     "output_type": "stream",
     "text": [
      "number of windows for C11F3-VE = 190\n",
      "Directory data/real_data/n_5000/h_2500/k_1 already existed. You might have overwritten the data!\n",
      "run time for C11F3-VE= 3.456914289792379 min\n",
      "number of windows for C11F4-VE = 192\n",
      "Directory data/real_data/n_5000/h_2500/k_1 already existed. You might have overwritten the data!\n",
      "run time for C11F4-VE= 3.876641261577606 min\n",
      "number of windows for C12F3-VE = 94\n",
      "Directory data/real_data/n_5000/h_2500/k_1 already existed. You might have overwritten the data!\n",
      "run time for C12F3-VE= 2.044418485959371 min\n",
      "number of windows for C13F3-VE = 88\n",
      "Directory data/real_data/n_5000/h_2500/k_1 already existed. You might have overwritten the data!\n",
      "run time for C13F3-VE= 1.8745665987332663 min\n",
      "number of windows for C13F4-VE = 102\n",
      "Directory data/real_data/n_5000/h_2500/k_1 already existed. You might have overwritten the data!\n",
      "run time for C13F4-VE= 2.358857731024424 min\n"
     ]
    }
   ],
   "source": [
    "# C data\n",
    "n = 5000 # windows lenght\n",
    "h = n // 2  # overlapping parameter\n",
    "k = 1  # k-nearest neighbor\n",
    "\n",
    "\n",
    "for name in data_dict_C.keys():\n",
    "    start = time.time()\n",
    "    # data\n",
    "    data_array = data_dict_C[name]\n",
    "    \n",
    "    # number of windows\n",
    "    i = 0\n",
    "    while (i*h + n) <= len(data_array):\n",
    "        i+=1\n",
    "    i_max = i  # actually we are interested in i-1, but for the subquent for cycle is reasonable to save i_max=i\n",
    "    print(f'\\nnumber of windows for {name} = {i_max}')\n",
    "    \n",
    "    # mi computation\n",
    "    \n",
    "    mi_array = np.zeros(i_max)\n",
    "    for j in range(i_max): # j=0,...,i_max-1\n",
    "        mi_array[j] = mutual_information_1(data_array[j*h: (j*h + n)], k=k) # compute mi for each window\n",
    "        \n",
    "    # save reuslts\n",
    "    directory_path = f'data/real_data/n_{n}/h_{h}/k_{k}/C'\n",
    "    ensure_directory_exists(directory_path)\n",
    "    file_name = f\"mi_{name}.txt\"\n",
    "    file_path = os.path.join(directory_path, file_name)\n",
    "    np.savetxt(file_path, mi_array)\n",
    "    \n",
    "    end = time.time() - start\n",
    "    print(f'run time for {name}= {end/60} min')\n",
    "    "
   ]
  },
  {
   "cell_type": "code",
   "execution_count": null,
   "id": "ccbcc6d5",
   "metadata": {},
   "outputs": [],
   "source": [
    "# A data\n",
    "n = 5000 # windows lenght\n",
    "h = n // 2  # overlapping parameter\n",
    "k = 1  # k-nearest neighbor\n",
    "\n",
    "\n",
    "for name in data_dict_A.keys():\n",
    "    start = time.time()\n",
    "    # data\n",
    "    data_array = data_dict_A[name]\n",
    "    \n",
    "    # number of windows\n",
    "    i = 0\n",
    "    while (i*h + n) <= len(data_array):\n",
    "        i+=1\n",
    "    i_max = i  # actually we are interested in i-1, but for the subquent for cycle is reasonable to save i_max=i\n",
    "    print(f'\\nnumber of windows for {name} = {i_max}')\n",
    "    \n",
    "    # mi computation\n",
    "    \n",
    "    mi_array = np.zeros(i_max)\n",
    "    for j in range(i_max): # j=0,...,i_max-1\n",
    "        mi_array[j] = mutual_information_1(data_array[j*h: (j*h + n)], k=k) # compute mi for each window\n",
    "        \n",
    "    # save reuslts\n",
    "    directory_path = f'data/real_data/n_{n}/h_{h}/k_{k}/A'\n",
    "    ensure_directory_exists(directory_path)\n",
    "    file_name = f\"mi_{name}.txt\"\n",
    "    file_path = os.path.join(directory_path, file_name)\n",
    "    np.savetxt(file_path, mi_array)\n",
    "    \n",
    "    end = time.time() - start\n",
    "    print(f'run time for {name}= {end/60} min')"
   ]
  },
  {
   "cell_type": "markdown",
   "id": "a82e6b2f",
   "metadata": {},
   "source": [
    "### data analysis"
   ]
  },
  {
   "cell_type": "code",
   "execution_count": 48,
   "id": "599753ce",
   "metadata": {},
   "outputs": [],
   "source": [
    "# import C mi data\n",
    "\n",
    "file_path_C = 'data/real_data/n_5000/h_2500/k_1/C/mi_C13F3-VE.txt'\n",
    "\n",
    "# file loading as numpy array\n",
    "try:\n",
    "    \n",
    "    mi_single_C = np.loadtxt(file_path_C)\n",
    "    \n",
    "except Exception as e:\n",
    "    print(f\"Error while loading file: {e}\")\n",
    "    \n",
    "    \n",
    "# import A mi data\n",
    "\n",
    "file_path_A = 'data/real_data/n_5000/h_2500/k_1/A/mi_A14F3-TE10034.txt'\n",
    "\n",
    "# file loading as numpy array\n",
    "try:\n",
    "\n",
    "    mi_single_A = np.loadtxt(file_path_A)\n",
    "    \n",
    "except Exception as e:\n",
    "    print(f\"Error while loading file: {e}\")\n",
    "    "
   ]
  },
  {
   "cell_type": "code",
   "execution_count": 49,
   "id": "d85dbb34",
   "metadata": {},
   "outputs": [
    {
     "data": {
      "image/png": "[encoded data removed]",
      "text/plain": [
       "<Figure size 640x480 with 1 Axes>"
      ]
     },
     "metadata": {},
     "output_type": "display_data"
    },
    {
     "name": "stdout",
     "output_type": "stream",
     "text": [
      "Statistic KS: 0.9842931937172775\n",
      "p-value: 1.3932102833888244e-69\n",
      "The two samples have significantly different distributions (at the 5 % significance level).\n"
     ]
    }
   ],
   "source": [
    "# histograms\n",
    "plt.hist(mi_single_A, density=True, bins=int(np.sqrt(len(mi_single_A))), label='A')\n",
    "plt.hist(mi_single_C, density=True, bins=int(np.sqrt(len(mi_single_C))), label='C', alpha=0.6)\n",
    "\n",
    "plt.legend()\n",
    "plt.ylabel('density')\n",
    "plt.xlabel('MI')\n",
    "plt.show()\n",
    "\n",
    "# Two-sample Kolmogorov-Smirnov test\n",
    "alpha = 0.05\n",
    "two_sample_ks(mi_single_A, mi_single_C, alpha)"
   ]
  }
 ],
 "metadata": {
  "kernelspec": {
   "display_name": "Python 3 (ipykernel)",
   "language": "python",
   "name": "python3"
  },
  "language_info": {
   "codemirror_mode": {
    "name": "ipython",
    "version": 3
   },
   "file_extension": ".py",
   "mimetype": "text/x-python",
   "name": "python",
   "nbconvert_exporter": "python",
   "pygments_lexer": "ipython3",
   "version": "3.9.13"
  }
 },
 "nbformat": 4,
 "nbformat_minor": 5
}
